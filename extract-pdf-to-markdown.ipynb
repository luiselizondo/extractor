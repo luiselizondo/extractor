{
 "cells": [
  {
   "cell_type": "markdown",
   "metadata": {},
   "source": [
    "# Extract a PDF using ML"
   ]
  },
  {
   "cell_type": "code",
   "execution_count": 1,
   "metadata": {},
   "outputs": [],
   "source": [
    "%reload_ext autoreload\n",
    "%autoreload 2\n",
    "\n",
    "import sys\n",
    "\n",
    "sys.path.append(\".\")\n",
    "sys.path.append(\"..\")\n",
    "sys.path.append(\"../..\")"
   ]
  },
  {
   "cell_type": "code",
   "execution_count": 8,
   "metadata": {},
   "outputs": [
    {
     "name": "stdout",
     "output_type": "stream",
     "text": [
      "Requirement already satisfied: nougat-ocr in /system/conda/miniconda3/envs/cloudspace/lib/python3.10/site-packages (0.1.17)\n",
      "Collecting transformers==4.38.2\n",
      "  Downloading transformers-4.38.2-py3-none-any.whl.metadata (130 kB)\n",
      "\u001b[2K     \u001b[90m━━━━━━━━━━━━━━━━━━━━━━━━━━━━━━━━━━━━━━\u001b[0m \u001b[32m130.7/130.7 kB\u001b[0m \u001b[31m22.7 MB/s\u001b[0m eta \u001b[36m0:00:00\u001b[0m\n",
      "\u001b[?25hRequirement already satisfied: datasets in /system/conda/miniconda3/envs/cloudspace/lib/python3.10/site-packages (2.20.0)\n",
      "Requirement already satisfied: filelock in /system/conda/miniconda3/envs/cloudspace/lib/python3.10/site-packages (from transformers==4.38.2) (3.15.4)\n",
      "Requirement already satisfied: huggingface-hub<1.0,>=0.19.3 in /system/conda/miniconda3/envs/cloudspace/lib/python3.10/site-packages (from transformers==4.38.2) (0.23.4)\n",
      "Requirement already satisfied: numpy>=1.17 in /system/conda/miniconda3/envs/cloudspace/lib/python3.10/site-packages (from transformers==4.38.2) (1.26.4)\n",
      "Requirement already satisfied: packaging>=20.0 in /system/conda/miniconda3/envs/cloudspace/lib/python3.10/site-packages (from transformers==4.38.2) (24.1)\n",
      "Requirement already satisfied: pyyaml>=5.1 in /system/conda/miniconda3/envs/cloudspace/lib/python3.10/site-packages (from transformers==4.38.2) (6.0.1)\n",
      "Requirement already satisfied: regex!=2019.12.17 in /system/conda/miniconda3/envs/cloudspace/lib/python3.10/site-packages (from transformers==4.38.2) (2024.5.15)\n",
      "Requirement already satisfied: requests in /system/conda/miniconda3/envs/cloudspace/lib/python3.10/site-packages (from transformers==4.38.2) (2.32.3)\n",
      "Collecting tokenizers<0.19,>=0.14 (from transformers==4.38.2)\n",
      "  Downloading tokenizers-0.15.2-cp310-cp310-manylinux_2_17_x86_64.manylinux2014_x86_64.whl.metadata (6.7 kB)\n",
      "Requirement already satisfied: safetensors>=0.4.1 in /system/conda/miniconda3/envs/cloudspace/lib/python3.10/site-packages (from transformers==4.38.2) (0.4.3)\n",
      "Requirement already satisfied: tqdm>=4.27 in /system/conda/miniconda3/envs/cloudspace/lib/python3.10/site-packages (from transformers==4.38.2) (4.66.4)\n",
      "Requirement already satisfied: timm==0.5.4 in /system/conda/miniconda3/envs/cloudspace/lib/python3.10/site-packages (from nougat-ocr) (0.5.4)\n",
      "Requirement already satisfied: orjson in /system/conda/miniconda3/envs/cloudspace/lib/python3.10/site-packages (from nougat-ocr) (3.10.6)\n",
      "Requirement already satisfied: opencv-python-headless in /system/conda/miniconda3/envs/cloudspace/lib/python3.10/site-packages (from nougat-ocr) (4.10.0.84)\n",
      "Requirement already satisfied: lightning<2022,>=2.0.0 in /system/conda/miniconda3/envs/cloudspace/lib/python3.10/site-packages (from nougat-ocr) (2.3.2)\n",
      "Requirement already satisfied: nltk in /system/conda/miniconda3/envs/cloudspace/lib/python3.10/site-packages (from nougat-ocr) (3.8.1)\n",
      "Requirement already satisfied: python-Levenshtein in /system/conda/miniconda3/envs/cloudspace/lib/python3.10/site-packages (from nougat-ocr) (0.25.1)\n",
      "Requirement already satisfied: sentencepiece in /system/conda/miniconda3/envs/cloudspace/lib/python3.10/site-packages (from nougat-ocr) (0.2.0)\n",
      "Requirement already satisfied: sconf>=0.2.3 in /system/conda/miniconda3/envs/cloudspace/lib/python3.10/site-packages (from nougat-ocr) (0.2.5)\n",
      "Requirement already satisfied: albumentations>=1.0.0 in /system/conda/miniconda3/envs/cloudspace/lib/python3.10/site-packages (from nougat-ocr) (1.4.11)\n",
      "Requirement already satisfied: pypdf>=3.1.0 in /system/conda/miniconda3/envs/cloudspace/lib/python3.10/site-packages (from nougat-ocr) (4.2.0)\n",
      "Requirement already satisfied: pypdfium2 in /system/conda/miniconda3/envs/cloudspace/lib/python3.10/site-packages (from nougat-ocr) (4.30.0)\n",
      "Requirement already satisfied: torch>=1.4 in /system/conda/miniconda3/envs/cloudspace/lib/python3.10/site-packages (from timm==0.5.4->nougat-ocr) (2.2.1+cu121)\n",
      "Requirement already satisfied: torchvision in /system/conda/miniconda3/envs/cloudspace/lib/python3.10/site-packages (from timm==0.5.4->nougat-ocr) (0.17.1+cu121)\n",
      "Requirement already satisfied: pyarrow>=15.0.0 in /system/conda/miniconda3/envs/cloudspace/lib/python3.10/site-packages (from datasets) (16.1.0)\n",
      "Requirement already satisfied: pyarrow-hotfix in /system/conda/miniconda3/envs/cloudspace/lib/python3.10/site-packages (from datasets) (0.6)\n",
      "Requirement already satisfied: dill<0.3.9,>=0.3.0 in /system/conda/miniconda3/envs/cloudspace/lib/python3.10/site-packages (from datasets) (0.3.8)\n",
      "Requirement already satisfied: pandas in /system/conda/miniconda3/envs/cloudspace/lib/python3.10/site-packages (from datasets) (2.1.4)\n",
      "Requirement already satisfied: xxhash in /system/conda/miniconda3/envs/cloudspace/lib/python3.10/site-packages (from datasets) (3.4.1)\n",
      "Requirement already satisfied: multiprocess in /system/conda/miniconda3/envs/cloudspace/lib/python3.10/site-packages (from datasets) (0.70.16)\n",
      "Requirement already satisfied: fsspec<=2024.5.0,>=2023.1.0 in /system/conda/miniconda3/envs/cloudspace/lib/python3.10/site-packages (from fsspec[http]<=2024.5.0,>=2023.1.0->datasets) (2024.5.0)\n",
      "Requirement already satisfied: aiohttp in /system/conda/miniconda3/envs/cloudspace/lib/python3.10/site-packages (from datasets) (3.9.5)\n",
      "Requirement already satisfied: scipy>=1.10.0 in /system/conda/miniconda3/envs/cloudspace/lib/python3.10/site-packages (from albumentations>=1.0.0->nougat-ocr) (1.11.4)\n",
      "Requirement already satisfied: scikit-image>=0.21.0 in /system/conda/miniconda3/envs/cloudspace/lib/python3.10/site-packages (from albumentations>=1.0.0->nougat-ocr) (0.24.0)\n",
      "Requirement already satisfied: typing-extensions>=4.9.0 in /system/conda/miniconda3/envs/cloudspace/lib/python3.10/site-packages (from albumentations>=1.0.0->nougat-ocr) (4.12.2)\n",
      "Requirement already satisfied: scikit-learn>=1.3.2 in /system/conda/miniconda3/envs/cloudspace/lib/python3.10/site-packages (from albumentations>=1.0.0->nougat-ocr) (1.3.2)\n",
      "Requirement already satisfied: pydantic>=2.7.0 in /system/conda/miniconda3/envs/cloudspace/lib/python3.10/site-packages (from albumentations>=1.0.0->nougat-ocr) (2.8.2)\n",
      "Requirement already satisfied: albucore>=0.0.11 in /system/conda/miniconda3/envs/cloudspace/lib/python3.10/site-packages (from albumentations>=1.0.0->nougat-ocr) (0.0.12)\n",
      "Requirement already satisfied: eval-type-backport in /system/conda/miniconda3/envs/cloudspace/lib/python3.10/site-packages (from albumentations>=1.0.0->nougat-ocr) (0.2.0)\n",
      "Requirement already satisfied: aiosignal>=1.1.2 in /system/conda/miniconda3/envs/cloudspace/lib/python3.10/site-packages (from aiohttp->datasets) (1.3.1)\n",
      "Requirement already satisfied: attrs>=17.3.0 in /system/conda/miniconda3/envs/cloudspace/lib/python3.10/site-packages (from aiohttp->datasets) (23.2.0)\n",
      "Requirement already satisfied: frozenlist>=1.1.1 in /system/conda/miniconda3/envs/cloudspace/lib/python3.10/site-packages (from aiohttp->datasets) (1.4.1)\n",
      "Requirement already satisfied: multidict<7.0,>=4.5 in /system/conda/miniconda3/envs/cloudspace/lib/python3.10/site-packages (from aiohttp->datasets) (6.0.5)\n",
      "Requirement already satisfied: yarl<2.0,>=1.0 in /system/conda/miniconda3/envs/cloudspace/lib/python3.10/site-packages (from aiohttp->datasets) (1.9.4)\n",
      "Requirement already satisfied: async-timeout<5.0,>=4.0 in /system/conda/miniconda3/envs/cloudspace/lib/python3.10/site-packages (from aiohttp->datasets) (4.0.3)\n",
      "Requirement already satisfied: lightning-utilities<2.0,>=0.10.0 in /system/conda/miniconda3/envs/cloudspace/lib/python3.10/site-packages (from lightning<2022,>=2.0.0->nougat-ocr) (0.11.3.post0)\n",
      "Requirement already satisfied: torchmetrics<3.0,>=0.7.0 in /system/conda/miniconda3/envs/cloudspace/lib/python3.10/site-packages (from lightning<2022,>=2.0.0->nougat-ocr) (1.3.1)\n",
      "Requirement already satisfied: pytorch-lightning in /system/conda/miniconda3/envs/cloudspace/lib/python3.10/site-packages (from lightning<2022,>=2.0.0->nougat-ocr) (2.3.2)\n",
      "Requirement already satisfied: charset-normalizer<4,>=2 in /system/conda/miniconda3/envs/cloudspace/lib/python3.10/site-packages (from requests->transformers==4.38.2) (3.3.2)\n",
      "Requirement already satisfied: idna<4,>=2.5 in /system/conda/miniconda3/envs/cloudspace/lib/python3.10/site-packages (from requests->transformers==4.38.2) (3.7)\n",
      "Requirement already satisfied: urllib3<3,>=1.21.1 in /system/conda/miniconda3/envs/cloudspace/lib/python3.10/site-packages (from requests->transformers==4.38.2) (2.2.2)\n",
      "Requirement already satisfied: certifi>=2017.4.17 in /system/conda/miniconda3/envs/cloudspace/lib/python3.10/site-packages (from requests->transformers==4.38.2) (2024.7.4)\n",
      "Requirement already satisfied: ruamel.yaml in /system/conda/miniconda3/envs/cloudspace/lib/python3.10/site-packages (from sconf>=0.2.3->nougat-ocr) (0.18.6)\n",
      "Requirement already satisfied: munch in /system/conda/miniconda3/envs/cloudspace/lib/python3.10/site-packages (from sconf>=0.2.3->nougat-ocr) (4.0.0)\n",
      "Requirement already satisfied: Pillow>=9.4.0 in /system/conda/miniconda3/envs/cloudspace/lib/python3.10/site-packages (from datasets[vision]->nougat-ocr) (10.4.0)\n",
      "Requirement already satisfied: click in /system/conda/miniconda3/envs/cloudspace/lib/python3.10/site-packages (from nltk->nougat-ocr) (8.1.7)\n",
      "Requirement already satisfied: joblib in /system/conda/miniconda3/envs/cloudspace/lib/python3.10/site-packages (from nltk->nougat-ocr) (1.4.2)\n",
      "Requirement already satisfied: python-dateutil>=2.8.2 in /system/conda/miniconda3/envs/cloudspace/lib/python3.10/site-packages (from pandas->datasets) (2.9.0.post0)\n",
      "Requirement already satisfied: pytz>=2020.1 in /system/conda/miniconda3/envs/cloudspace/lib/python3.10/site-packages (from pandas->datasets) (2024.1)\n",
      "Requirement already satisfied: tzdata>=2022.1 in /system/conda/miniconda3/envs/cloudspace/lib/python3.10/site-packages (from pandas->datasets) (2024.1)\n",
      "Requirement already satisfied: Levenshtein==0.25.1 in /system/conda/miniconda3/envs/cloudspace/lib/python3.10/site-packages (from python-Levenshtein->nougat-ocr) (0.25.1)\n",
      "Requirement already satisfied: rapidfuzz<4.0.0,>=3.8.0 in /system/conda/miniconda3/envs/cloudspace/lib/python3.10/site-packages (from Levenshtein==0.25.1->python-Levenshtein->nougat-ocr) (3.9.4)\n",
      "Requirement already satisfied: tomli>=2.0.1 in /system/conda/miniconda3/envs/cloudspace/lib/python3.10/site-packages (from albucore>=0.0.11->albumentations>=1.0.0->nougat-ocr) (2.0.1)\n",
      "Requirement already satisfied: setuptools in /system/conda/miniconda3/envs/cloudspace/lib/python3.10/site-packages (from lightning-utilities<2.0,>=0.10.0->lightning<2022,>=2.0.0->nougat-ocr) (69.5.1)\n",
      "Requirement already satisfied: annotated-types>=0.4.0 in /system/conda/miniconda3/envs/cloudspace/lib/python3.10/site-packages (from pydantic>=2.7.0->albumentations>=1.0.0->nougat-ocr) (0.7.0)\n",
      "Requirement already satisfied: pydantic-core==2.20.1 in /system/conda/miniconda3/envs/cloudspace/lib/python3.10/site-packages (from pydantic>=2.7.0->albumentations>=1.0.0->nougat-ocr) (2.20.1)\n",
      "Requirement already satisfied: six>=1.5 in /system/conda/miniconda3/envs/cloudspace/lib/python3.10/site-packages (from python-dateutil>=2.8.2->pandas->datasets) (1.16.0)\n",
      "Requirement already satisfied: networkx>=2.8 in /system/conda/miniconda3/envs/cloudspace/lib/python3.10/site-packages (from scikit-image>=0.21.0->albumentations>=1.0.0->nougat-ocr) (3.3)\n",
      "Requirement already satisfied: imageio>=2.33 in /system/conda/miniconda3/envs/cloudspace/lib/python3.10/site-packages (from scikit-image>=0.21.0->albumentations>=1.0.0->nougat-ocr) (2.34.2)\n",
      "Requirement already satisfied: tifffile>=2022.8.12 in /system/conda/miniconda3/envs/cloudspace/lib/python3.10/site-packages (from scikit-image>=0.21.0->albumentations>=1.0.0->nougat-ocr) (2024.7.2)\n",
      "Requirement already satisfied: lazy-loader>=0.4 in /system/conda/miniconda3/envs/cloudspace/lib/python3.10/site-packages (from scikit-image>=0.21.0->albumentations>=1.0.0->nougat-ocr) (0.4)\n",
      "Requirement already satisfied: threadpoolctl>=2.0.0 in /system/conda/miniconda3/envs/cloudspace/lib/python3.10/site-packages (from scikit-learn>=1.3.2->albumentations>=1.0.0->nougat-ocr) (3.5.0)\n",
      "Requirement already satisfied: sympy in /system/conda/miniconda3/envs/cloudspace/lib/python3.10/site-packages (from torch>=1.4->timm==0.5.4->nougat-ocr) (1.12.1)\n",
      "Requirement already satisfied: jinja2 in /system/conda/miniconda3/envs/cloudspace/lib/python3.10/site-packages (from torch>=1.4->timm==0.5.4->nougat-ocr) (3.1.4)\n",
      "Requirement already satisfied: nvidia-cuda-nvrtc-cu12==12.1.105 in /system/conda/miniconda3/envs/cloudspace/lib/python3.10/site-packages (from torch>=1.4->timm==0.5.4->nougat-ocr) (12.1.105)\n",
      "Requirement already satisfied: nvidia-cuda-runtime-cu12==12.1.105 in /system/conda/miniconda3/envs/cloudspace/lib/python3.10/site-packages (from torch>=1.4->timm==0.5.4->nougat-ocr) (12.1.105)\n",
      "Requirement already satisfied: nvidia-cuda-cupti-cu12==12.1.105 in /system/conda/miniconda3/envs/cloudspace/lib/python3.10/site-packages (from torch>=1.4->timm==0.5.4->nougat-ocr) (12.1.105)\n",
      "Requirement already satisfied: nvidia-cudnn-cu12==8.9.2.26 in /system/conda/miniconda3/envs/cloudspace/lib/python3.10/site-packages (from torch>=1.4->timm==0.5.4->nougat-ocr) (8.9.2.26)\n",
      "Requirement already satisfied: nvidia-cublas-cu12==12.1.3.1 in /system/conda/miniconda3/envs/cloudspace/lib/python3.10/site-packages (from torch>=1.4->timm==0.5.4->nougat-ocr) (12.1.3.1)\n",
      "Requirement already satisfied: nvidia-cufft-cu12==11.0.2.54 in /system/conda/miniconda3/envs/cloudspace/lib/python3.10/site-packages (from torch>=1.4->timm==0.5.4->nougat-ocr) (11.0.2.54)\n",
      "Requirement already satisfied: nvidia-curand-cu12==10.3.2.106 in /system/conda/miniconda3/envs/cloudspace/lib/python3.10/site-packages (from torch>=1.4->timm==0.5.4->nougat-ocr) (10.3.2.106)\n",
      "Requirement already satisfied: nvidia-cusolver-cu12==11.4.5.107 in /system/conda/miniconda3/envs/cloudspace/lib/python3.10/site-packages (from torch>=1.4->timm==0.5.4->nougat-ocr) (11.4.5.107)\n",
      "Requirement already satisfied: nvidia-cusparse-cu12==12.1.0.106 in /system/conda/miniconda3/envs/cloudspace/lib/python3.10/site-packages (from torch>=1.4->timm==0.5.4->nougat-ocr) (12.1.0.106)\n",
      "Requirement already satisfied: nvidia-nccl-cu12==2.19.3 in /system/conda/miniconda3/envs/cloudspace/lib/python3.10/site-packages (from torch>=1.4->timm==0.5.4->nougat-ocr) (2.19.3)\n",
      "Requirement already satisfied: nvidia-nvtx-cu12==12.1.105 in /system/conda/miniconda3/envs/cloudspace/lib/python3.10/site-packages (from torch>=1.4->timm==0.5.4->nougat-ocr) (12.1.105)\n",
      "Requirement already satisfied: triton==2.2.0 in /system/conda/miniconda3/envs/cloudspace/lib/python3.10/site-packages (from torch>=1.4->timm==0.5.4->nougat-ocr) (2.2.0)\n",
      "Requirement already satisfied: nvidia-nvjitlink-cu12 in /system/conda/miniconda3/envs/cloudspace/lib/python3.10/site-packages (from nvidia-cusolver-cu12==11.4.5.107->torch>=1.4->timm==0.5.4->nougat-ocr) (12.5.82)\n",
      "Requirement already satisfied: ruamel.yaml.clib>=0.2.7 in /system/conda/miniconda3/envs/cloudspace/lib/python3.10/site-packages (from ruamel.yaml->sconf>=0.2.3->nougat-ocr) (0.2.8)\n",
      "Requirement already satisfied: MarkupSafe>=2.0 in /system/conda/miniconda3/envs/cloudspace/lib/python3.10/site-packages (from jinja2->torch>=1.4->timm==0.5.4->nougat-ocr) (2.1.5)\n",
      "Requirement already satisfied: mpmath<1.4.0,>=1.1.0 in /system/conda/miniconda3/envs/cloudspace/lib/python3.10/site-packages (from sympy->torch>=1.4->timm==0.5.4->nougat-ocr) (1.3.0)\n",
      "Downloading transformers-4.38.2-py3-none-any.whl (8.5 MB)\n",
      "\u001b[2K   \u001b[90m━━━━━━━━━━━━━━━━━━━━━━━━━━━━━━━━━━━━━━━━\u001b[0m \u001b[32m8.5/8.5 MB\u001b[0m \u001b[31m102.9 MB/s\u001b[0m eta \u001b[36m0:00:00\u001b[0m00:01\u001b[0m00:01\u001b[0m\n",
      "\u001b[?25hDownloading tokenizers-0.15.2-cp310-cp310-manylinux_2_17_x86_64.manylinux2014_x86_64.whl (3.6 MB)\n",
      "\u001b[2K   \u001b[90m━━━━━━━━━━━━━━━━━━━━━━━━━━━━━━━━━━━━━━━━\u001b[0m \u001b[32m3.6/3.6 MB\u001b[0m \u001b[31m111.0 MB/s\u001b[0m eta \u001b[36m0:00:00\u001b[0m\n",
      "\u001b[?25hInstalling collected packages: tokenizers, transformers\n",
      "  Attempting uninstall: tokenizers\n",
      "    Found existing installation: tokenizers 0.19.1\n",
      "    Uninstalling tokenizers-0.19.1:\n",
      "      Successfully uninstalled tokenizers-0.19.1\n",
      "  Attempting uninstall: transformers\n",
      "    Found existing installation: transformers 4.42.3\n",
      "    Uninstalling transformers-4.42.3:\n",
      "      Successfully uninstalled transformers-4.42.3\n",
      "Successfully installed tokenizers-0.15.2 transformers-4.38.2\n",
      "\n",
      "\u001b[1m[\u001b[0m\u001b[34;49mnotice\u001b[0m\u001b[1;39;49m]\u001b[0m\u001b[39;49m A new release of pip is available: \u001b[0m\u001b[31;49m24.1.1\u001b[0m\u001b[39;49m -> \u001b[0m\u001b[32;49m24.1.2\u001b[0m\n",
      "\u001b[1m[\u001b[0m\u001b[34;49mnotice\u001b[0m\u001b[1;39;49m]\u001b[0m\u001b[39;49m To update, run: \u001b[0m\u001b[32;49mpip install --upgrade pip\u001b[0m\n"
     ]
    }
   ],
   "source": [
    "!{sys.executable} -m pip install nougat-ocr transformers==4.38.2 datasets"
   ]
  },
  {
   "cell_type": "code",
   "execution_count": null,
   "metadata": {},
   "outputs": [],
   "source": []
  },
  {
   "cell_type": "code",
   "execution_count": 14,
   "metadata": {},
   "outputs": [
    {
     "name": "stdout",
     "output_type": "stream",
     "text": [
      "INFO:root:Output directory does not exist. Creating output directory.\n",
      "/home/zeus/miniconda3/envs/cloudspace/lib/python3.10/site-packages/torch/functional.py:507: UserWarning: torch.meshgrid: in an upcoming release, it will be required to pass the indexing argument. (Triggered internally at ../aten/src/ATen/native/TensorShape.cpp:3549.)\n",
      "  return _VF.meshgrid(tensors, **kwargs)  # type: ignore[attr-defined]\n",
      "  0%|                                                    | 0/65 [00:00<?, ?it/s]/home/zeus/miniconda3/envs/cloudspace/lib/python3.10/site-packages/nougat/model.py:437: UserWarning: var(): degrees of freedom is <= 0. Correction should be strictly less than the reduction factor (input numel divided by output numel). (Triggered internally at ../aten/src/ATen/native/ReduceOps.cpp:1760.)\n",
      "  return torch.var(self.values, 1) / self.values.shape[1]\n",
      "INFO:root:Processing file extractor/data/fmty-1T24.pdf with 65 pages\n",
      "  2%|▋                                           | 1/65 [00:03<03:51,  3.62s/it]WARNING:root:Found repetitions in sample 0\n",
      "[nltk_data] Downloading package words to\n",
      "[nltk_data]     /teamspace/studios/this_studio/nltk_data...\n",
      "[nltk_data]   Unzipping corpora/words.zip.\n",
      "  5%|██                                          | 3/65 [00:09<03:15,  3.16s/it]WARNING:root:Found repetitions in sample 0\n",
      "WARNING:root:Skipping page 4 due to repetitions.\n",
      "  6%|██▋                                         | 4/65 [00:11<02:51,  2.81s/it]WARNING:root:Found repetitions in sample 0\n",
      " 28%|███████████▉                               | 18/65 [01:01<03:53,  4.97s/it]WARNING:root:Found repetitions in sample 0\n",
      " 32%|█████████████▉                             | 21/65 [01:22<04:23,  5.99s/it]WARNING:root:Found repetitions in sample 0\n",
      "WARNING:root:Skipping page 22 due to repetitions.\n",
      " 34%|██████████████▌                            | 22/65 [01:24<03:31,  4.92s/it]WARNING:root:Found repetitions in sample 0\n",
      "WARNING:root:Skipping page 23 due to repetitions.\n",
      " 35%|███████████████▏                           | 23/65 [01:26<02:49,  4.03s/it]WARNING:root:Found repetitions in sample 0\n",
      "WARNING:root:Skipping page 24 due to repetitions.\n",
      " 38%|████████████████▌                          | 25/65 [01:29<01:44,  2.61s/it]WARNING:root:Found repetitions in sample 0\n",
      "WARNING:root:Skipping page 26 due to repetitions.\n",
      " 40%|█████████████████▏                         | 26/65 [01:32<01:39,  2.55s/it]WARNING:root:Found repetitions in sample 0\n",
      "WARNING:root:Skipping page 27 due to repetitions.\n",
      " 51%|█████████████████████▊                     | 33/65 [01:53<01:36,  3.01s/it]INFO: likely hallucinated title at the end of the page: ## Appendix A\n",
      " 55%|███████████████████████▊                   | 36/65 [02:16<03:04,  6.36s/it]WARNING:root:Found repetitions in sample 0\n",
      "WARNING:root:Skipping page 37 due to repetitions.\n",
      " 57%|████████████████████████▍                  | 37/65 [02:18<02:21,  5.04s/it]WARNING:root:Found repetitions in sample 0\n",
      "WARNING:root:Skipping page 38 due to repetitions.\n",
      " 58%|█████████████████████████▏                 | 38/65 [02:22<02:05,  4.66s/it]WARNING:root:Found repetitions in sample 0\n",
      " 63%|███████████████████████████                | 41/65 [02:43<02:54,  7.27s/it]WARNING:root:Found repetitions in sample 0\n",
      "WARNING:root:Skipping page 42 due to repetitions.\n",
      " 72%|███████████████████████████████            | 47/65 [03:17<01:21,  4.51s/it]WARNING:root:Found repetitions in sample 0\n",
      "WARNING:root:Skipping page 48 due to repetitions.\n",
      " 74%|███████████████████████████████▊           | 48/65 [03:20<01:07,  3.96s/it]WARNING:root:Found repetitions in sample 0\n",
      " 80%|██████████████████████████████████▍        | 52/65 [03:38<01:00,  4.62s/it]WARNING:root:Found repetitions in sample 0\n",
      "WARNING:root:Skipping page 53 due to repetitions.\n",
      " 92%|███████████████████████████████████████▋   | 60/65 [04:31<00:37,  7.50s/it]WARNING:root:Found repetitions in sample 0\n",
      " 97%|█████████████████████████████████████████▋ | 63/65 [04:56<00:13,  6.53s/it]INFO: likely hallucinated title at the end of the page: ## Appendix A\n",
      "100%|███████████████████████████████████████████| 65/65 [05:02<00:00,  4.65s/it]\n",
      "-> Cannot close object, library is destroyed. This may cause a memory leak!\n",
      "-> Cannot close object, library is destroyed. This may cause a memory leak!\n"
     ]
    }
   ],
   "source": [
    "!nougat extractor/data/fmty-1T24.pdf --out output2 --batchsize=1"
   ]
  },
  {
   "cell_type": "code",
   "execution_count": 16,
   "metadata": {},
   "outputs": [
    {
     "name": "stdout",
     "output_type": "stream",
     "text": [
      "/home/zeus/miniconda3/envs/cloudspace/lib/python3.10/site-packages/torch/functional.py:507: UserWarning: torch.meshgrid: in an upcoming release, it will be required to pass the indexing argument. (Triggered internally at ../aten/src/ATen/native/TensorShape.cpp:3549.)\n",
      "  return _VF.meshgrid(tensors, **kwargs)  # type: ignore[attr-defined]\n",
      "  0%|                                                    | 0/45 [00:00<?, ?it/s]/home/zeus/miniconda3/envs/cloudspace/lib/python3.10/site-packages/nougat/model.py:437: UserWarning: var(): degrees of freedom is <= 0. Correction should be strictly less than the reduction factor (input numel divided by output numel). (Triggered internally at ../aten/src/ATen/native/ReduceOps.cpp:1760.)\n",
      "  return torch.var(self.values, 1) / self.values.shape[1]\n",
      "INFO:root:Processing file extractor/data/fibra-shop-1T24.pdf with 45 pages\n",
      "  2%|▉                                           | 1/45 [00:02<01:42,  2.32s/it]WARNING:root:Found repetitions in sample 0\n",
      "  4%|█▉                                          | 2/45 [00:03<01:10,  1.63s/it]WARNING:root:Found repetitions in sample 0\n",
      "  7%|██▉                                         | 3/45 [00:04<00:58,  1.40s/it]WARNING:root:Found repetitions in sample 0\n",
      "WARNING:root:Skipping page 4 due to repetitions.\n",
      " 18%|███████▊                                    | 8/45 [00:13<01:14,  2.02s/it]WARNING:root:Found repetitions in sample 0\n",
      " 22%|█████████▌                                 | 10/45 [00:15<00:45,  1.31s/it]WARNING:root:Found repetitions in sample 0\n",
      " 31%|█████████████▍                             | 14/45 [00:17<00:17,  1.73it/s]"
     ]
    }
   ],
   "source": [
    "!nougat extractor/data/fibra-shop-1T24.pdf --out output --batchsize=1"
   ]
  },
  {
   "cell_type": "code",
   "execution_count": 15,
   "metadata": {},
   "outputs": [],
   "source": [
    "!mv output2/*.* extractor/output "
   ]
  }
 ],
 "metadata": {
  "kernelspec": {
   "display_name": "extractor",
   "language": "python",
   "name": "python3"
  },
  "language_info": {
   "codemirror_mode": {
    "name": "ipython",
    "version": 3
   },
   "file_extension": ".py",
   "mimetype": "text/x-python",
   "name": "python",
   "nbconvert_exporter": "python",
   "pygments_lexer": "ipython3",
   "version": "3.12.4"
  }
 },
 "nbformat": 4,
 "nbformat_minor": 2
}
